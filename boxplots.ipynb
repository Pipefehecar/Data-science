{
 "cells": [
  {
   "cell_type": "markdown",
   "id": "a4bbfc85",
   "metadata": {},
   "source": [
    "# Deteccion de valores atipicos usando el metodo de las cajas"
   ]
  },
  {
   "cell_type": "markdown",
   "id": "39105ca7",
   "metadata": {},
   "source": [
    "#### Importamos las librerias necesarias"
   ]
  },
  {
   "cell_type": "code",
   "execution_count": 245,
   "id": "efb7bb74",
   "metadata": {},
   "outputs": [],
   "source": [
    "import pandas as pd\n",
    "import numpy as np\n",
    "from datetime import datetime\n",
    "import matplotlib.pyplot as plt\n",
    "from IPython.display import display, HTML\n",
    "%matplotlib inline"
   ]
  },
  {
   "cell_type": "markdown",
   "id": "695d6734",
   "metadata": {},
   "source": [
    "#### Cargamos nuestro set de datos y vemos un resumen"
   ]
  },
  {
   "cell_type": "code",
   "execution_count": 246,
   "id": "7cf6a7cc",
   "metadata": {},
   "outputs": [
    {
     "ename": "ParserError",
     "evalue": "Error tokenizing data. C error: Expected 1 fields in line 973, saw 3\n",
     "output_type": "error",
     "traceback": [
      "\u001b[1;31m---------------------------------------------------------------------------\u001b[0m",
      "\u001b[1;31mParserError\u001b[0m                               Traceback (most recent call last)",
      "\u001b[1;32mc:\\Users\\Luis Herrera\\Desktop\\CIENCIA DE DATOS\\jupyter_notebooks\\boxplots.ipynb Cell 5'\u001b[0m in \u001b[0;36m<cell line: 1>\u001b[1;34m()\u001b[0m\n\u001b[1;32m----> <a href='vscode-notebook-cell:/c%3A/Users/Luis%20Herrera/Desktop/CIENCIA%20DE%20DATOS/jupyter_notebooks/boxplots.ipynb#ch0000004?line=0'>1</a>\u001b[0m estructura_manglar \u001b[39m=\u001b[39m pd\u001b[39m.\u001b[39mread_csv(\u001b[39m'\u001b[39m\u001b[39m./DATA_ESTRUCTURA.csv\u001b[39m\u001b[39m'\u001b[39m, sep \u001b[39m=\u001b[39m \u001b[39m'\u001b[39m\u001b[39m;\u001b[39m\u001b[39m'\u001b[39m)\n\u001b[0;32m      <a href='vscode-notebook-cell:/c%3A/Users/Luis%20Herrera/Desktop/CIENCIA%20DE%20DATOS/jupyter_notebooks/boxplots.ipynb#ch0000004?line=1'>2</a>\u001b[0m \u001b[39mprint\u001b[39m (\u001b[39m'\u001b[39m\u001b[39m>>>DATA SET INICIAL:\u001b[39m\u001b[39m\\n\u001b[39;00m\u001b[39m'\u001b[39m)\n\u001b[0;32m      <a href='vscode-notebook-cell:/c%3A/Users/Luis%20Herrera/Desktop/CIENCIA%20DE%20DATOS/jupyter_notebooks/boxplots.ipynb#ch0000004?line=2'>3</a>\u001b[0m \u001b[39m#print(alturas.head())\u001b[39;00m\n",
      "File \u001b[1;32m~\\AppData\\Local\\Programs\\Python\\Python39\\lib\\site-packages\\pandas\\io\\parsers.py:688\u001b[0m, in \u001b[0;36mread_csv\u001b[1;34m(filepath_or_buffer, sep, delimiter, header, names, index_col, usecols, squeeze, prefix, mangle_dupe_cols, dtype, engine, converters, true_values, false_values, skipinitialspace, skiprows, skipfooter, nrows, na_values, keep_default_na, na_filter, verbose, skip_blank_lines, parse_dates, infer_datetime_format, keep_date_col, date_parser, dayfirst, cache_dates, iterator, chunksize, compression, thousands, decimal, lineterminator, quotechar, quoting, doublequote, escapechar, comment, encoding, dialect, error_bad_lines, warn_bad_lines, delim_whitespace, low_memory, memory_map, float_precision)\u001b[0m\n\u001b[0;32m    <a href='file:///~/AppData/Local/Programs/Python/Python39/lib/site-packages/pandas/io/parsers.py?line=634'>635</a>\u001b[0m     engine_specified \u001b[39m=\u001b[39m \u001b[39mFalse\u001b[39;00m\n\u001b[0;32m    <a href='file:///~/AppData/Local/Programs/Python/Python39/lib/site-packages/pandas/io/parsers.py?line=636'>637</a>\u001b[0m kwds\u001b[39m.\u001b[39mupdate(\n\u001b[0;32m    <a href='file:///~/AppData/Local/Programs/Python/Python39/lib/site-packages/pandas/io/parsers.py?line=637'>638</a>\u001b[0m     delimiter\u001b[39m=\u001b[39mdelimiter,\n\u001b[0;32m    <a href='file:///~/AppData/Local/Programs/Python/Python39/lib/site-packages/pandas/io/parsers.py?line=638'>639</a>\u001b[0m     engine\u001b[39m=\u001b[39mengine,\n\u001b[1;32m   (...)\u001b[0m\n\u001b[0;32m    <a href='file:///~/AppData/Local/Programs/Python/Python39/lib/site-packages/pandas/io/parsers.py?line=684'>685</a>\u001b[0m     skip_blank_lines\u001b[39m=\u001b[39mskip_blank_lines,\n\u001b[0;32m    <a href='file:///~/AppData/Local/Programs/Python/Python39/lib/site-packages/pandas/io/parsers.py?line=685'>686</a>\u001b[0m )\n\u001b[1;32m--> <a href='file:///~/AppData/Local/Programs/Python/Python39/lib/site-packages/pandas/io/parsers.py?line=687'>688</a>\u001b[0m \u001b[39mreturn\u001b[39;00m _read(filepath_or_buffer, kwds)\n",
      "File \u001b[1;32m~\\AppData\\Local\\Programs\\Python\\Python39\\lib\\site-packages\\pandas\\io\\parsers.py:460\u001b[0m, in \u001b[0;36m_read\u001b[1;34m(filepath_or_buffer, kwds)\u001b[0m\n\u001b[0;32m    <a href='file:///~/AppData/Local/Programs/Python/Python39/lib/site-packages/pandas/io/parsers.py?line=456'>457</a>\u001b[0m     \u001b[39mreturn\u001b[39;00m parser\n\u001b[0;32m    <a href='file:///~/AppData/Local/Programs/Python/Python39/lib/site-packages/pandas/io/parsers.py?line=458'>459</a>\u001b[0m \u001b[39mtry\u001b[39;00m:\n\u001b[1;32m--> <a href='file:///~/AppData/Local/Programs/Python/Python39/lib/site-packages/pandas/io/parsers.py?line=459'>460</a>\u001b[0m     data \u001b[39m=\u001b[39m parser\u001b[39m.\u001b[39;49mread(nrows)\n\u001b[0;32m    <a href='file:///~/AppData/Local/Programs/Python/Python39/lib/site-packages/pandas/io/parsers.py?line=460'>461</a>\u001b[0m \u001b[39mfinally\u001b[39;00m:\n\u001b[0;32m    <a href='file:///~/AppData/Local/Programs/Python/Python39/lib/site-packages/pandas/io/parsers.py?line=461'>462</a>\u001b[0m     parser\u001b[39m.\u001b[39mclose()\n",
      "File \u001b[1;32m~\\AppData\\Local\\Programs\\Python\\Python39\\lib\\site-packages\\pandas\\io\\parsers.py:1198\u001b[0m, in \u001b[0;36mTextFileReader.read\u001b[1;34m(self, nrows)\u001b[0m\n\u001b[0;32m   <a href='file:///~/AppData/Local/Programs/Python/Python39/lib/site-packages/pandas/io/parsers.py?line=1195'>1196</a>\u001b[0m \u001b[39mdef\u001b[39;00m \u001b[39mread\u001b[39m(\u001b[39mself\u001b[39m, nrows\u001b[39m=\u001b[39m\u001b[39mNone\u001b[39;00m):\n\u001b[0;32m   <a href='file:///~/AppData/Local/Programs/Python/Python39/lib/site-packages/pandas/io/parsers.py?line=1196'>1197</a>\u001b[0m     nrows \u001b[39m=\u001b[39m _validate_integer(\u001b[39m\"\u001b[39m\u001b[39mnrows\u001b[39m\u001b[39m\"\u001b[39m, nrows)\n\u001b[1;32m-> <a href='file:///~/AppData/Local/Programs/Python/Python39/lib/site-packages/pandas/io/parsers.py?line=1197'>1198</a>\u001b[0m     ret \u001b[39m=\u001b[39m \u001b[39mself\u001b[39;49m\u001b[39m.\u001b[39;49m_engine\u001b[39m.\u001b[39;49mread(nrows)\n\u001b[0;32m   <a href='file:///~/AppData/Local/Programs/Python/Python39/lib/site-packages/pandas/io/parsers.py?line=1199'>1200</a>\u001b[0m     \u001b[39m# May alter columns / col_dict\u001b[39;00m\n\u001b[0;32m   <a href='file:///~/AppData/Local/Programs/Python/Python39/lib/site-packages/pandas/io/parsers.py?line=1200'>1201</a>\u001b[0m     index, columns, col_dict \u001b[39m=\u001b[39m \u001b[39mself\u001b[39m\u001b[39m.\u001b[39m_create_index(ret)\n",
      "File \u001b[1;32m~\\AppData\\Local\\Programs\\Python\\Python39\\lib\\site-packages\\pandas\\io\\parsers.py:2157\u001b[0m, in \u001b[0;36mCParserWrapper.read\u001b[1;34m(self, nrows)\u001b[0m\n\u001b[0;32m   <a href='file:///~/AppData/Local/Programs/Python/Python39/lib/site-packages/pandas/io/parsers.py?line=2154'>2155</a>\u001b[0m \u001b[39mdef\u001b[39;00m \u001b[39mread\u001b[39m(\u001b[39mself\u001b[39m, nrows\u001b[39m=\u001b[39m\u001b[39mNone\u001b[39;00m):\n\u001b[0;32m   <a href='file:///~/AppData/Local/Programs/Python/Python39/lib/site-packages/pandas/io/parsers.py?line=2155'>2156</a>\u001b[0m     \u001b[39mtry\u001b[39;00m:\n\u001b[1;32m-> <a href='file:///~/AppData/Local/Programs/Python/Python39/lib/site-packages/pandas/io/parsers.py?line=2156'>2157</a>\u001b[0m         data \u001b[39m=\u001b[39m \u001b[39mself\u001b[39;49m\u001b[39m.\u001b[39;49m_reader\u001b[39m.\u001b[39;49mread(nrows)\n\u001b[0;32m   <a href='file:///~/AppData/Local/Programs/Python/Python39/lib/site-packages/pandas/io/parsers.py?line=2157'>2158</a>\u001b[0m     \u001b[39mexcept\u001b[39;00m \u001b[39mStopIteration\u001b[39;00m:\n\u001b[0;32m   <a href='file:///~/AppData/Local/Programs/Python/Python39/lib/site-packages/pandas/io/parsers.py?line=2158'>2159</a>\u001b[0m         \u001b[39mif\u001b[39;00m \u001b[39mself\u001b[39m\u001b[39m.\u001b[39m_first_chunk:\n",
      "File \u001b[1;32mpandas\\_libs\\parsers.pyx:847\u001b[0m, in \u001b[0;36mpandas._libs.parsers.TextReader.read\u001b[1;34m()\u001b[0m\n",
      "File \u001b[1;32mpandas\\_libs\\parsers.pyx:862\u001b[0m, in \u001b[0;36mpandas._libs.parsers.TextReader._read_low_memory\u001b[1;34m()\u001b[0m\n",
      "File \u001b[1;32mpandas\\_libs\\parsers.pyx:918\u001b[0m, in \u001b[0;36mpandas._libs.parsers.TextReader._read_rows\u001b[1;34m()\u001b[0m\n",
      "File \u001b[1;32mpandas\\_libs\\parsers.pyx:905\u001b[0m, in \u001b[0;36mpandas._libs.parsers.TextReader._tokenize_rows\u001b[1;34m()\u001b[0m\n",
      "File \u001b[1;32mpandas\\_libs\\parsers.pyx:2042\u001b[0m, in \u001b[0;36mpandas._libs.parsers.raise_parser_error\u001b[1;34m()\u001b[0m\n",
      "\u001b[1;31mParserError\u001b[0m: Error tokenizing data. C error: Expected 1 fields in line 973, saw 3\n"
     ]
    }
   ],
   "source": [
    "estructura_manglar = pd.read_csv('./DATA_ESTRUCTURA.csv', sep = ';')\n",
    "print ('>>>DATA SET INICIAL:\\n')\n",
    "#print(alturas.head())\n",
    "display(HTML(estructura_manglar.head().to_html())) \n",
    "print ('>>>',len(estructura_manglar),' filas\\n')\n",
    "estructura_manglar.info()\n",
    "estructura_manglar.dropna( inplace = True ) "
   ]
  },
  {
   "cell_type": "markdown",
   "id": "54db408c",
   "metadata": {},
   "source": [
    "#### Revisamos y corregimos los tipos de datos de cada columna"
   ]
  },
  {
   "cell_type": "code",
   "execution_count": null,
   "id": "34fbc2ba",
   "metadata": {},
   "outputs": [
    {
     "name": "stdout",
     "output_type": "stream",
     "text": [
      "<class 'pandas.core.frame.DataFrame'>\n",
      "Int64Index: 10236 entries, 0 to 10253\n",
      "Data columns (total 11 columns):\n",
      " #   Column        Non-Null Count  Dtype         \n",
      "---  ------        --------------  -----         \n",
      " 0   FECHA         10236 non-null  datetime64[ns]\n",
      " 1   ID_ESTACION   10236 non-null  int64         \n",
      " 2   NOM_ESTACION  10236 non-null  object        \n",
      " 3   ESPECIE       10236 non-null  object        \n",
      " 4   ESPECIE_DES   10236 non-null  object        \n",
      " 5   ALTURA        10236 non-null  float64       \n",
      " 6   DAP           10236 non-null  float64       \n",
      " 7   TIPO          10236 non-null  int32         \n",
      " 8   TIPO_DES      10236 non-null  object        \n",
      " 9   ESTADO        10236 non-null  int32         \n",
      " 10  ESTADO_DES    10236 non-null  object        \n",
      "dtypes: datetime64[ns](1), float64(2), int32(2), int64(1), object(5)\n",
      "memory usage: 879.7+ KB\n"
     ]
    },
    {
     "data": {
      "text/html": [
       "<div>\n",
       "<style scoped>\n",
       "    .dataframe tbody tr th:only-of-type {\n",
       "        vertical-align: middle;\n",
       "    }\n",
       "\n",
       "    .dataframe tbody tr th {\n",
       "        vertical-align: top;\n",
       "    }\n",
       "\n",
       "    .dataframe thead th {\n",
       "        text-align: right;\n",
       "    }\n",
       "</style>\n",
       "<table border=\"1\" class=\"dataframe\">\n",
       "  <thead>\n",
       "    <tr style=\"text-align: right;\">\n",
       "      <th></th>\n",
       "      <th>FECHA</th>\n",
       "      <th>ID_ESTACION</th>\n",
       "      <th>NOM_ESTACION</th>\n",
       "      <th>ESPECIE</th>\n",
       "      <th>ESPECIE_DES</th>\n",
       "      <th>ALTURA</th>\n",
       "      <th>DAP</th>\n",
       "      <th>TIPO</th>\n",
       "      <th>TIPO_DES</th>\n",
       "      <th>ESTADO</th>\n",
       "      <th>ESTADO_DES</th>\n",
       "    </tr>\n",
       "  </thead>\n",
       "  <tbody>\n",
       "    <tr>\n",
       "      <th>0</th>\n",
       "      <td>2000-03-07</td>\n",
       "      <td>45907</td>\n",
       "      <td>Kilómetro 22 -1</td>\n",
       "      <td>AG</td>\n",
       "      <td>Avicennia germinans</td>\n",
       "      <td>8.9</td>\n",
       "      <td>13.0</td>\n",
       "      <td>8</td>\n",
       "      <td>Tronco</td>\n",
       "      <td>6</td>\n",
       "      <td>Vivo</td>\n",
       "    </tr>\n",
       "    <tr>\n",
       "      <th>1</th>\n",
       "      <td>2000-03-07</td>\n",
       "      <td>45907</td>\n",
       "      <td>Kilómetro 22 -1</td>\n",
       "      <td>AG</td>\n",
       "      <td>Avicennia germinans</td>\n",
       "      <td>5.2</td>\n",
       "      <td>6.9</td>\n",
       "      <td>8</td>\n",
       "      <td>Tronco</td>\n",
       "      <td>3</td>\n",
       "      <td>Mal Estado</td>\n",
       "    </tr>\n",
       "    <tr>\n",
       "      <th>2</th>\n",
       "      <td>2000-03-07</td>\n",
       "      <td>45907</td>\n",
       "      <td>Kilómetro 22 -1</td>\n",
       "      <td>AG</td>\n",
       "      <td>Avicennia germinans</td>\n",
       "      <td>10.1</td>\n",
       "      <td>15.3</td>\n",
       "      <td>8</td>\n",
       "      <td>Tronco</td>\n",
       "      <td>1</td>\n",
       "      <td>Caido</td>\n",
       "    </tr>\n",
       "    <tr>\n",
       "      <th>3</th>\n",
       "      <td>2000-03-07</td>\n",
       "      <td>45907</td>\n",
       "      <td>Kilómetro 22 -1</td>\n",
       "      <td>AG</td>\n",
       "      <td>Avicennia germinans</td>\n",
       "      <td>13.7</td>\n",
       "      <td>24.7</td>\n",
       "      <td>8</td>\n",
       "      <td>Tronco</td>\n",
       "      <td>6</td>\n",
       "      <td>Vivo</td>\n",
       "    </tr>\n",
       "    <tr>\n",
       "      <th>4</th>\n",
       "      <td>2000-03-07</td>\n",
       "      <td>45907</td>\n",
       "      <td>Kilómetro 22 -1</td>\n",
       "      <td>AG</td>\n",
       "      <td>Avicennia germinans</td>\n",
       "      <td>13.2</td>\n",
       "      <td>23.7</td>\n",
       "      <td>8</td>\n",
       "      <td>Tronco</td>\n",
       "      <td>6</td>\n",
       "      <td>Vivo</td>\n",
       "    </tr>\n",
       "    <tr>\n",
       "      <th>...</th>\n",
       "      <td>...</td>\n",
       "      <td>...</td>\n",
       "      <td>...</td>\n",
       "      <td>...</td>\n",
       "      <td>...</td>\n",
       "      <td>...</td>\n",
       "      <td>...</td>\n",
       "      <td>...</td>\n",
       "      <td>...</td>\n",
       "      <td>...</td>\n",
       "      <td>...</td>\n",
       "    </tr>\n",
       "    <tr>\n",
       "      <th>10249</th>\n",
       "      <td>2018-12-05</td>\n",
       "      <td>50093</td>\n",
       "      <td>Sevillano</td>\n",
       "      <td>AG</td>\n",
       "      <td>Avicennia germinans</td>\n",
       "      <td>3.0</td>\n",
       "      <td>4.3</td>\n",
       "      <td>7</td>\n",
       "      <td>Rama</td>\n",
       "      <td>6</td>\n",
       "      <td>Vivo</td>\n",
       "    </tr>\n",
       "    <tr>\n",
       "      <th>10250</th>\n",
       "      <td>2018-12-05</td>\n",
       "      <td>50093</td>\n",
       "      <td>Sevillano</td>\n",
       "      <td>AG</td>\n",
       "      <td>Avicennia germinans</td>\n",
       "      <td>10.0</td>\n",
       "      <td>11.5</td>\n",
       "      <td>7</td>\n",
       "      <td>Rama</td>\n",
       "      <td>6</td>\n",
       "      <td>Vivo</td>\n",
       "    </tr>\n",
       "    <tr>\n",
       "      <th>10251</th>\n",
       "      <td>2018-12-05</td>\n",
       "      <td>50093</td>\n",
       "      <td>Sevillano</td>\n",
       "      <td>AG</td>\n",
       "      <td>Avicennia germinans</td>\n",
       "      <td>3.0</td>\n",
       "      <td>7.0</td>\n",
       "      <td>8</td>\n",
       "      <td>Tronco</td>\n",
       "      <td>6</td>\n",
       "      <td>Vivo</td>\n",
       "    </tr>\n",
       "    <tr>\n",
       "      <th>10252</th>\n",
       "      <td>2018-12-05</td>\n",
       "      <td>50093</td>\n",
       "      <td>Sevillano</td>\n",
       "      <td>AG</td>\n",
       "      <td>Avicennia germinans</td>\n",
       "      <td>14.0</td>\n",
       "      <td>14.4</td>\n",
       "      <td>8</td>\n",
       "      <td>Tronco</td>\n",
       "      <td>6</td>\n",
       "      <td>Vivo</td>\n",
       "    </tr>\n",
       "    <tr>\n",
       "      <th>10253</th>\n",
       "      <td>2018-12-05</td>\n",
       "      <td>50093</td>\n",
       "      <td>Sevillano</td>\n",
       "      <td>CE</td>\n",
       "      <td>Conocarpus erectus</td>\n",
       "      <td>2.0</td>\n",
       "      <td>2.7</td>\n",
       "      <td>8</td>\n",
       "      <td>Tronco</td>\n",
       "      <td>6</td>\n",
       "      <td>Vivo</td>\n",
       "    </tr>\n",
       "  </tbody>\n",
       "</table>\n",
       "<p>10236 rows × 11 columns</p>\n",
       "</div>"
      ],
      "text/plain": [
       "           FECHA  ID_ESTACION     NOM_ESTACION ESPECIE          ESPECIE_DES  \\\n",
       "0     2000-03-07        45907  Kilómetro 22 -1      AG  Avicennia germinans   \n",
       "1     2000-03-07        45907  Kilómetro 22 -1      AG  Avicennia germinans   \n",
       "2     2000-03-07        45907  Kilómetro 22 -1      AG  Avicennia germinans   \n",
       "3     2000-03-07        45907  Kilómetro 22 -1      AG  Avicennia germinans   \n",
       "4     2000-03-07        45907  Kilómetro 22 -1      AG  Avicennia germinans   \n",
       "...          ...          ...              ...     ...                  ...   \n",
       "10249 2018-12-05        50093        Sevillano      AG  Avicennia germinans   \n",
       "10250 2018-12-05        50093        Sevillano      AG  Avicennia germinans   \n",
       "10251 2018-12-05        50093        Sevillano      AG  Avicennia germinans   \n",
       "10252 2018-12-05        50093        Sevillano      AG  Avicennia germinans   \n",
       "10253 2018-12-05        50093        Sevillano      CE   Conocarpus erectus   \n",
       "\n",
       "       ALTURA   DAP  TIPO TIPO_DES  ESTADO  ESTADO_DES  \n",
       "0         8.9  13.0     8   Tronco       6        Vivo  \n",
       "1         5.2   6.9     8   Tronco       3  Mal Estado  \n",
       "2        10.1  15.3     8   Tronco       1       Caido  \n",
       "3        13.7  24.7     8   Tronco       6        Vivo  \n",
       "4        13.2  23.7     8   Tronco       6        Vivo  \n",
       "...       ...   ...   ...      ...     ...         ...  \n",
       "10249     3.0   4.3     7     Rama       6        Vivo  \n",
       "10250    10.0  11.5     7     Rama       6        Vivo  \n",
       "10251     3.0   7.0     8   Tronco       6        Vivo  \n",
       "10252    14.0  14.4     8   Tronco       6        Vivo  \n",
       "10253     2.0   2.7     8   Tronco       6        Vivo  \n",
       "\n",
       "[10236 rows x 11 columns]"
      ]
     },
     "execution_count": 230,
     "metadata": {},
     "output_type": "execute_result"
    }
   ],
   "source": [
    "estructura_manglar['FECHA']=pd.to_datetime(estructura_manglar['FECHA'], format='%d/%m/%y')\n",
    "# estructura_manglar['FECHA']= datetime.strptime(estructura_manglar['FECHA'],'dd/mm/yyyy')\n",
    "estructura_manglar['ALTURA'] = estructura_manglar['ALTURA'].replace('[^\\d]','.',regex=True).astype(float)\n",
    "# estructura_manglar['ALTURA'] = estructura_manglar['ALTURA'].astype(float)    \n",
    "# estructura_manglar['ALTURA'] = pd.to_numeric(estructura_manglar['ALTURA'])    \n",
    "estructura_manglar['DAP'] = estructura_manglar['DAP'].replace('[^\\d]','.',regex=True).astype(float)\n",
    "estructura_manglar['TIPO'] = estructura_manglar['TIPO'].astype(int)       \n",
    "estructura_manglar['ESTADO'] = estructura_manglar['ESTADO'].astype(int)       \n",
    "\n",
    "estructura_manglar.info()\n",
    "estructura_manglar"
   ]
  },
  {
   "cell_type": "markdown",
   "id": "e6a30e34",
   "metadata": {},
   "source": [
    "#### Imprimimos un histograma para ver como se distribuyen nuestros datos"
   ]
  },
  {
   "cell_type": "code",
   "execution_count": null,
   "id": "c2f06dfa",
   "metadata": {},
   "outputs": [
    {
     "data": {
      "image/png": "[encoded data removed]",
      "text/plain": [
       "<Figure size 432x288 with 1 Axes>"
      ]
     },
     "metadata": {
      "needs_background": "light"
     },
     "output_type": "display_data"
    }
   ],
   "source": [
    "plt.title('ALTURAS')\n",
    "plt.hist(estructura_manglar['ALTURA'], edgecolor='black', linewidth=0.5)\n",
    "plt.show()"
   ]
  },
  {
   "cell_type": "markdown",
   "id": "d43c458f",
   "metadata": {},
   "source": [
    "#### Mostramos el diagrama de cajas para las alturas"
   ]
  },
  {
   "cell_type": "code",
   "execution_count": null,
   "id": "c0a943d4",
   "metadata": {},
   "outputs": [
    {
     "data": {
      "image/png": "[encoded data removed]",
      "text/plain": [
       "<Figure size 432x288 with 1 Axes>"
      ]
     },
     "metadata": {
      "needs_background": "light"
     },
     "output_type": "display_data"
    }
   ],
   "source": [
    "\n",
    "plt.boxplot(estructura_manglar['ALTURA'], vert=False)\n",
    "plt.show()\n"
   ]
  },
  {
   "cell_type": "markdown",
   "id": "957a2922",
   "metadata": {},
   "source": [
    "#### a continuacion calculamos los valores de nuestro diagrama de cajas"
   ]
  },
  {
   "cell_type": "code",
   "execution_count": null,
   "id": "8a0725a8",
   "metadata": {},
   "outputs": [
    {
     "name": "stdout",
     "output_type": "stream",
     "text": [
      "Q1 = 5.5\n",
      "Q3 = 10.0\n",
      "MEDIANA = 7.7\n",
      "valor_min = 0.1\n",
      "valor_max = 80.0\n",
      "f1 = 0.1\n",
      "f2 = 16.75\n"
     ]
    }
   ],
   "source": [
    "MEDIANA = estructura_manglar['ALTURA'].median()\n",
    "valor_min = estructura_manglar['ALTURA'].min()\n",
    "valor_max = estructura_manglar['ALTURA'].max()\n",
    "Q1 = estructura_manglar['ALTURA'].quantile(0.25)\n",
    "Q3 = estructura_manglar['ALTURA'].quantile(0.75)\n",
    "IQR = Q3 -Q1\n",
    "f1 = Q1 - 1.5*IQR\n",
    "f2 = Q3 + 1.5*IQR\n",
    "\n",
    "if(valor_min>f1):\n",
    "    f1 = valor_min\n",
    "\n",
    "if(valor_max<f2):\n",
    "    f1 = valor_max\n",
    "    \n",
    "\n",
    "\n",
    "print('Q1 =',Q1)\n",
    "print('Q3 =',Q3)\n",
    "print('MEDIANA =', MEDIANA)\n",
    "print('valor_min =', valor_min)\n",
    "print('valor_max =', valor_max)\n",
    "print('f1 =',f1)\n",
    "print('f2 =',f2)"
   ]
  },
  {
   "cell_type": "markdown",
   "id": "4534547a",
   "metadata": {},
   "source": [
    "#### Finalmente imprimimos los valores atipicos"
   ]
  },
  {
   "cell_type": "code",
   "execution_count": null,
   "id": "a221f125",
   "metadata": {},
   "outputs": [
    {
     "name": "stdout",
     "output_type": "stream",
     "text": [
      "valores atipicos\n",
      "           FECHA  ID_ESTACION     NOM_ESTACION ESPECIE            ESPECIE_DES  \\\n",
      "1010 2000-01-24        45920     Rinconada -3      AG    Avicennia germinans   \n",
      "1017 2000-01-24        45920     Rinconada -3      AG    Avicennia germinans   \n",
      "1025 2000-01-24        45920     Rinconada -3      AG    Avicennia germinans   \n",
      "1039 2000-01-24        45920     Rinconada -3      AG    Avicennia germinans   \n",
      "1179 2014-07-04        45907  Kilómetro 22 -1      AG    Avicennia germinans   \n",
      "...         ...          ...              ...     ...                    ...   \n",
      "8926 2012-12-06        47837          Luna -2      AG    Avicennia germinans   \n",
      "8933 2012-12-06        47837          Luna -2      AG    Avicennia germinans   \n",
      "8934 2012-12-06        47837          Luna -2      AG    Avicennia germinans   \n",
      "8943 2012-12-06        47837          Luna -2      LR  Laguncularia racemosa   \n",
      "8974 2012-12-06        47837          Luna -2      LR  Laguncularia racemosa   \n",
      "\n",
      "      ALTURA    DAP  TIPO TIPO_DES  ESTADO ESTADO_DES  \n",
      "1010    18.2  25.30     8   Tronco       6       Vivo  \n",
      "1017    17.7  29.50     8   Tronco       6       Vivo  \n",
      "1025    17.7  27.35     8   Tronco       6       Vivo  \n",
      "1039    17.7  36.60     8   Tronco       6       Vivo  \n",
      "1179    17.0  20.80     8   Tronco       6       Vivo  \n",
      "...      ...    ...   ...      ...     ...        ...  \n",
      "8926    18.0  21.50     8   Tronco       6       Vivo  \n",
      "8933    18.0  20.80     8   Tronco       6       Vivo  \n",
      "8934    18.0  16.50     8   Tronco       6       Vivo  \n",
      "8943    20.0  12.80     8   Tronco       6       Vivo  \n",
      "8974    18.0  13.60     8   Tronco       6       Vivo  \n",
      "\n",
      "[486 rows x 11 columns]\n"
     ]
    }
   ],
   "source": [
    "ubicacion_atipicos = (estructura_manglar['ALTURA']<f1) | (estructura_manglar['ALTURA']>f2)\n",
    "#print('ubicacion atipicos\\n', ubicacion_atipicos)\n",
    "atipicos = estructura_manglar[ubicacion_atipicos]\n",
    "print('valores atipicos\\n',atipicos)"
   ]
  },
  {
   "cell_type": "markdown",
   "id": "d80c09a5",
   "metadata": {},
   "source": [
    "#### creamos una funcion que realiza todo el proceso..."
   ]
  },
  {
   "cell_type": "code",
   "execution_count": null,
   "id": "7105b9f3",
   "metadata": {},
   "outputs": [],
   "source": [
    "def atipicos_by_boxplot(serie):\n",
    " \n",
    "    plt.boxplot(serie, vert=False)\n",
    "    plt.show()\n",
    "    Q1 = serie.quantile(0.25)\n",
    "    Q3 = serie.quantile(0.75)\n",
    "    IQR = Q3 - Q1\n",
    "    f1 = Q1 - 1.5*IQR #bigote inferior\n",
    "    f2 = Q3 + 1.5*IQR #bigote superior\n",
    "    \n",
    "    if(serie.min()>f1):\n",
    "        f1 = serie.min()\n",
    "\n",
    "    if(serie.max()<f2):\n",
    "        f1 = serie.max()\n",
    "        \n",
    "    print('MEDIANA =', serie.median())\n",
    "    print('valor_min =', serie.min())\n",
    "    print('valor_max =', serie.max())\n",
    "    print('Q1 =',Q1)\n",
    "    print('Q3 =',Q3)\n",
    "    print('IQR = ',IQR)\n",
    "    \n",
    "    print('f1 =',f1)    \n",
    "    print('f2 =',f2)\n",
    "    \n",
    "    ubicacion_atipicos = (estructura_manglar['ALTURA']<f1) | (estructura_manglar['ALTURA']>f2) #guardamos la ubicacion de nuestros outliers\n",
    "    #print('ubicacion atipicos\\n', ubicacion_atipicos)\n",
    "\n",
    "    atipicos = estructura_manglar[ubicacion_atipicos] #extraemos los outliers de nuestro dataframe\n",
    "    # print('atipicos\\n',atipicos)\n",
    "    display(HTML(atipicos.head().to_html())) \n",
    "    print ('>>>',len(atipicos),' filas\\n')\n",
    "    print('Se encontraron:')\n",
    "    print(len(atipicos),'valores atipicos')\n",
    "    print(len(serie) - len(atipicos),'valores validos')\n",
    "    return atipicos"
   ]
  },
  {
   "cell_type": "code",
   "execution_count": null,
   "id": "1f9e7aee",
   "metadata": {},
   "outputs": [
    {
     "data": {
      "image/png": "[encoded data removed]",
      "text/plain": [
       "<Figure size 432x288 with 1 Axes>"
      ]
     },
     "metadata": {
      "needs_background": "light"
     },
     "output_type": "display_data"
    },
    {
     "name": "stdout",
     "output_type": "stream",
     "text": [
      "MEDIANA = 7.7\n",
      "valor_min = 0.1\n",
      "valor_max = 80.0\n",
      "Q1 = 5.5\n",
      "Q3 = 10.0\n",
      "IQR =  4.5\n",
      "f1 = 0.1\n",
      "f2 = 16.75\n"
     ]
    },
    {
     "data": {
      "text/html": [
       "<table border=\"1\" class=\"dataframe\">\n",
       "  <thead>\n",
       "    <tr style=\"text-align: right;\">\n",
       "      <th></th>\n",
       "      <th>FECHA</th>\n",
       "      <th>ID_ESTACION</th>\n",
       "      <th>NOM_ESTACION</th>\n",
       "      <th>ESPECIE</th>\n",
       "      <th>ESPECIE_DES</th>\n",
       "      <th>ALTURA</th>\n",
       "      <th>DAP</th>\n",
       "      <th>TIPO</th>\n",
       "      <th>TIPO_DES</th>\n",
       "      <th>ESTADO</th>\n",
       "      <th>ESTADO_DES</th>\n",
       "    </tr>\n",
       "  </thead>\n",
       "  <tbody>\n",
       "    <tr>\n",
       "      <th>1010</th>\n",
       "      <td>2000-01-24</td>\n",
       "      <td>45920</td>\n",
       "      <td>Rinconada -3</td>\n",
       "      <td>AG</td>\n",
       "      <td>Avicennia germinans</td>\n",
       "      <td>18.2</td>\n",
       "      <td>25.30</td>\n",
       "      <td>8</td>\n",
       "      <td>Tronco</td>\n",
       "      <td>6</td>\n",
       "      <td>Vivo</td>\n",
       "    </tr>\n",
       "    <tr>\n",
       "      <th>1017</th>\n",
       "      <td>2000-01-24</td>\n",
       "      <td>45920</td>\n",
       "      <td>Rinconada -3</td>\n",
       "      <td>AG</td>\n",
       "      <td>Avicennia germinans</td>\n",
       "      <td>17.7</td>\n",
       "      <td>29.50</td>\n",
       "      <td>8</td>\n",
       "      <td>Tronco</td>\n",
       "      <td>6</td>\n",
       "      <td>Vivo</td>\n",
       "    </tr>\n",
       "    <tr>\n",
       "      <th>1025</th>\n",
       "      <td>2000-01-24</td>\n",
       "      <td>45920</td>\n",
       "      <td>Rinconada -3</td>\n",
       "      <td>AG</td>\n",
       "      <td>Avicennia germinans</td>\n",
       "      <td>17.7</td>\n",
       "      <td>27.35</td>\n",
       "      <td>8</td>\n",
       "      <td>Tronco</td>\n",
       "      <td>6</td>\n",
       "      <td>Vivo</td>\n",
       "    </tr>\n",
       "    <tr>\n",
       "      <th>1039</th>\n",
       "      <td>2000-01-24</td>\n",
       "      <td>45920</td>\n",
       "      <td>Rinconada -3</td>\n",
       "      <td>AG</td>\n",
       "      <td>Avicennia germinans</td>\n",
       "      <td>17.7</td>\n",
       "      <td>36.60</td>\n",
       "      <td>8</td>\n",
       "      <td>Tronco</td>\n",
       "      <td>6</td>\n",
       "      <td>Vivo</td>\n",
       "    </tr>\n",
       "    <tr>\n",
       "      <th>1179</th>\n",
       "      <td>2014-07-04</td>\n",
       "      <td>45907</td>\n",
       "      <td>Kilómetro 22 -1</td>\n",
       "      <td>AG</td>\n",
       "      <td>Avicennia germinans</td>\n",
       "      <td>17.0</td>\n",
       "      <td>20.80</td>\n",
       "      <td>8</td>\n",
       "      <td>Tronco</td>\n",
       "      <td>6</td>\n",
       "      <td>Vivo</td>\n",
       "    </tr>\n",
       "  </tbody>\n",
       "</table>"
      ],
      "text/plain": [
       "<IPython.core.display.HTML object>"
      ]
     },
     "metadata": {},
     "output_type": "display_data"
    },
    {
     "name": "stdout",
     "output_type": "stream",
     "text": [
      ">>> 486  filas\n",
      "\n",
      "Se encontraron:\n",
      "486 valores atipicos\n",
      "9750 valores validos\n"
     ]
    }
   ],
   "source": [
    "outliers_altura = atipicos_by_boxplot(estructura_manglar['ALTURA'])\n",
    "outliers_altura.to_csv('ALTURAS_atipicas.csv')"
   ]
  },
  {
   "cell_type": "code",
   "execution_count": null,
   "id": "46c9c4c2",
   "metadata": {},
   "outputs": [
    {
     "data": {
      "image/png": "[encoded data removed]",
      "text/plain": [
       "<Figure size 432x288 with 1 Axes>"
      ]
     },
     "metadata": {
      "needs_background": "light"
     },
     "output_type": "display_data"
    },
    {
     "name": "stdout",
     "output_type": "stream",
     "text": [
      "MEDIANA = 6.2\n",
      "valor_min = 2.0\n",
      "valor_max = 54.3\n",
      "Q1 = 4.2\n",
      "Q3 = 10.6\n",
      "IQR =  6.3999999999999995\n",
      "f1 = 2.0\n",
      "f2 = 20.2\n"
     ]
    },
    {
     "data": {
      "text/html": [
       "<table border=\"1\" class=\"dataframe\">\n",
       "  <thead>\n",
       "    <tr style=\"text-align: right;\">\n",
       "      <th></th>\n",
       "      <th>FECHA</th>\n",
       "      <th>ID_ESTACION</th>\n",
       "      <th>NOM_ESTACION</th>\n",
       "      <th>ESPECIE</th>\n",
       "      <th>ESPECIE_DES</th>\n",
       "      <th>ALTURA</th>\n",
       "      <th>DAP</th>\n",
       "      <th>TIPO</th>\n",
       "      <th>TIPO_DES</th>\n",
       "      <th>ESTADO</th>\n",
       "      <th>ESTADO_DES</th>\n",
       "    </tr>\n",
       "  </thead>\n",
       "  <tbody>\n",
       "    <tr>\n",
       "      <th>1095</th>\n",
       "      <td>2000-02-04</td>\n",
       "      <td>45924</td>\n",
       "      <td>Aguas Negras -1</td>\n",
       "      <td>LR</td>\n",
       "      <td>Laguncularia racemosa</td>\n",
       "      <td>1.6</td>\n",
       "      <td>4.1</td>\n",
       "      <td>8</td>\n",
       "      <td>Tronco</td>\n",
       "      <td>6</td>\n",
       "      <td>Vivo</td>\n",
       "    </tr>\n",
       "    <tr>\n",
       "      <th>1229</th>\n",
       "      <td>2014-07-04</td>\n",
       "      <td>45907</td>\n",
       "      <td>Kilómetro 22 -1</td>\n",
       "      <td>AG</td>\n",
       "      <td>Avicennia germinans</td>\n",
       "      <td>0.5</td>\n",
       "      <td>6.9</td>\n",
       "      <td>8</td>\n",
       "      <td>Tronco</td>\n",
       "      <td>1</td>\n",
       "      <td>Caido</td>\n",
       "    </tr>\n",
       "    <tr>\n",
       "      <th>1334</th>\n",
       "      <td>1995-11-20</td>\n",
       "      <td>45907</td>\n",
       "      <td>Kilómetro 22 -1</td>\n",
       "      <td>AG</td>\n",
       "      <td>Avicennia germinans</td>\n",
       "      <td>1.9</td>\n",
       "      <td>3.5</td>\n",
       "      <td>8</td>\n",
       "      <td>Tronco</td>\n",
       "      <td>6</td>\n",
       "      <td>Vivo</td>\n",
       "    </tr>\n",
       "    <tr>\n",
       "      <th>1337</th>\n",
       "      <td>1995-11-20</td>\n",
       "      <td>45907</td>\n",
       "      <td>Kilómetro 22 -1</td>\n",
       "      <td>AG</td>\n",
       "      <td>Avicennia germinans</td>\n",
       "      <td>1.8</td>\n",
       "      <td>3.5</td>\n",
       "      <td>8</td>\n",
       "      <td>Tronco</td>\n",
       "      <td>6</td>\n",
       "      <td>Vivo</td>\n",
       "    </tr>\n",
       "    <tr>\n",
       "      <th>1338</th>\n",
       "      <td>1995-11-20</td>\n",
       "      <td>45907</td>\n",
       "      <td>Kilómetro 22 -1</td>\n",
       "      <td>AG</td>\n",
       "      <td>Avicennia germinans</td>\n",
       "      <td>1.8</td>\n",
       "      <td>2.9</td>\n",
       "      <td>7</td>\n",
       "      <td>Rama</td>\n",
       "      <td>6</td>\n",
       "      <td>Vivo</td>\n",
       "    </tr>\n",
       "  </tbody>\n",
       "</table>"
      ],
      "text/plain": [
       "<IPython.core.display.HTML object>"
      ]
     },
     "metadata": {},
     "output_type": "display_data"
    },
    {
     "name": "stdout",
     "output_type": "stream",
     "text": [
      ">>> 201  filas\n",
      "\n",
      "Se encontraron:\n",
      "201 valores atipicos\n",
      "10035 valores validos\n"
     ]
    }
   ],
   "source": [
    "outliers_dap = atipicos_by_boxplot(estructura_manglar['DAP'])\n",
    "outliers_dap.to_csv('DAP_atipicas.csv')"
   ]
  },
  {
   "cell_type": "markdown",
   "id": "0d974560",
   "metadata": {},
   "source": [
    "Podemos exportar nuestros valores atipicos para verlos mas comodamente en excel"
   ]
  },
  {
   "cell_type": "code",
   "execution_count": null,
   "id": "e11adce5",
   "metadata": {},
   "outputs": [
    {
     "name": "stdout",
     "output_type": "stream",
     "text": [
      "3.5     4\n",
      "17.0    4\n",
      "3.0     4\n",
      "25.5    4\n",
      "3.2     3\n",
      "       ..\n",
      "28.9    1\n",
      "35.1    1\n",
      "39.8    1\n",
      "29.9    1\n",
      "36.8    1\n",
      "Name: DAP, Length: 150, dtype: int64\n",
      "20.00    125\n",
      "18.00    123\n",
      "17.00     53\n",
      "22.00     36\n",
      "25.00     31\n",
      "19.00     17\n",
      "23.00     16\n",
      "21.00     13\n",
      "26.00      9\n",
      "17.70      6\n",
      "24.00      5\n",
      "18.70      5\n",
      "19.70      4\n",
      "17.50      4\n",
      "18.20      3\n",
      "25.70      3\n",
      "29.00      2\n",
      "21.50      2\n",
      "27.70      2\n",
      "20.70      2\n",
      "17.60      2\n",
      "80.00      1\n",
      "19.50      1\n",
      "27.00      1\n",
      "22.50      1\n",
      "28.00      1\n",
      "22.70      1\n",
      "30.00      1\n",
      "32.70      1\n",
      "17.20      1\n",
      "23.20      1\n",
      "19.20      1\n",
      "23.10      1\n",
      "31.60      1\n",
      "34.70      1\n",
      "29.70      1\n",
      "18.50      1\n",
      "23.70      1\n",
      "26.70      1\n",
      "19.45      1\n",
      "17.57      1\n",
      "20.20      1\n",
      "20.67      1\n",
      "20.03      1\n",
      "Name: ALTURA, dtype: int64\n"
     ]
    }
   ],
   "source": [
    "print(outliers_dap['DAP'].value_counts ())\n"
   ]
  },
  {
   "cell_type": "code",
   "execution_count": null,
   "id": "62b7f7b9",
   "metadata": {},
   "outputs": [
    {
     "name": "stdout",
     "output_type": "stream",
     "text": [
      "20.00    125\n",
      "18.00    123\n",
      "17.00     53\n",
      "22.00     36\n",
      "25.00     31\n",
      "19.00     17\n",
      "23.00     16\n",
      "21.00     13\n",
      "26.00      9\n",
      "17.70      6\n",
      "24.00      5\n",
      "18.70      5\n",
      "19.70      4\n",
      "17.50      4\n",
      "18.20      3\n",
      "25.70      3\n",
      "29.00      2\n",
      "21.50      2\n",
      "27.70      2\n",
      "20.70      2\n",
      "17.60      2\n",
      "80.00      1\n",
      "19.50      1\n",
      "27.00      1\n",
      "22.50      1\n",
      "28.00      1\n",
      "22.70      1\n",
      "30.00      1\n",
      "32.70      1\n",
      "17.20      1\n",
      "23.20      1\n",
      "19.20      1\n",
      "23.10      1\n",
      "31.60      1\n",
      "34.70      1\n",
      "29.70      1\n",
      "18.50      1\n",
      "23.70      1\n",
      "26.70      1\n",
      "19.45      1\n",
      "17.57      1\n",
      "20.20      1\n",
      "20.67      1\n",
      "20.03      1\n",
      "Name: ALTURA, dtype: int64\n"
     ]
    }
   ],
   "source": [
    "print(outliers_altura['ALTURA'].value_counts ())"
   ]
  },
  {
   "cell_type": "code",
   "execution_count": null,
   "id": "ff91df93",
   "metadata": {},
   "outputs": [],
   "source": []
  },
  {
   "cell_type": "code",
   "execution_count": null,
   "id": "5e6e573c",
   "metadata": {},
   "outputs": [],
   "source": []
  }
 ],
 "metadata": {
  "kernelspec": {
   "display_name": "Python 3 (ipykernel)",
   "language": "python",
   "name": "python3"
  },
  "language_info": {
   "codemirror_mode": {
    "name": "ipython",
    "version": 3
   },
   "file_extension": ".py",
   "mimetype": "text/x-python",
   "name": "python",
   "nbconvert_exporter": "python",
   "pygments_lexer": "ipython3",
   "version": "3.9.7"
  }
 },
 "nbformat": 4,
 "nbformat_minor": 5
}
