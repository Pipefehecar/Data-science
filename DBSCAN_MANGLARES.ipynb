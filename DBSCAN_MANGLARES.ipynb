{
 "cells": [
  {
   "cell_type": "code",
   "execution_count": 19,
   "metadata": {},
   "outputs": [],
   "source": [
    "import numpy as np\n",
    "import matplotlib.pyplot as plt\n",
    "import pandas as pd\n",
    "from sklearn.cluster import DBSCAN"
   ]
  },
  {
   "cell_type": "markdown",
   "metadata": {},
   "source": [
    "### Cargar datos"
   ]
  },
  {
   "cell_type": "code",
   "execution_count": 38,
   "metadata": {},
   "outputs": [
    {
     "data": {
      "text/html": [
       "<div>\n",
       "<style scoped>\n",
       "    .dataframe tbody tr th:only-of-type {\n",
       "        vertical-align: middle;\n",
       "    }\n",
       "\n",
       "    .dataframe tbody tr th {\n",
       "        vertical-align: top;\n",
       "    }\n",
       "\n",
       "    .dataframe thead th {\n",
       "        text-align: right;\n",
       "    }\n",
       "</style>\n",
       "<table border=\"1\" class=\"dataframe\">\n",
       "  <thead>\n",
       "    <tr style=\"text-align: right;\">\n",
       "      <th></th>\n",
       "      <th>8</th>\n",
       "      <th>9;13</th>\n",
       "    </tr>\n",
       "  </thead>\n",
       "  <tbody>\n",
       "    <tr>\n",
       "      <th>5</th>\n",
       "      <td>2;6</td>\n",
       "      <td>9.0</td>\n",
       "    </tr>\n",
       "    <tr>\n",
       "      <th>10</th>\n",
       "      <td>1;15</td>\n",
       "      <td>3.0</td>\n",
       "    </tr>\n",
       "    <tr>\n",
       "      <th>13</th>\n",
       "      <td>7;24</td>\n",
       "      <td>7.0</td>\n",
       "    </tr>\n",
       "    <tr>\n",
       "      <th>13</th>\n",
       "      <td>2;23</td>\n",
       "      <td>7.0</td>\n",
       "    </tr>\n",
       "    <tr>\n",
       "      <th>4</th>\n",
       "      <td>2;3</td>\n",
       "      <td>45.0</td>\n",
       "    </tr>\n",
       "    <tr>\n",
       "      <th>...</th>\n",
       "      <td>...</td>\n",
       "      <td>...</td>\n",
       "    </tr>\n",
       "    <tr>\n",
       "      <th>3</th>\n",
       "      <td>5;3</td>\n",
       "      <td>2.0</td>\n",
       "    </tr>\n",
       "    <tr>\n",
       "      <th>3</th>\n",
       "      <td>5;12</td>\n",
       "      <td>5.0</td>\n",
       "    </tr>\n",
       "    <tr>\n",
       "      <th>4</th>\n",
       "      <td>5;2</td>\n",
       "      <td>8.0</td>\n",
       "    </tr>\n",
       "    <tr>\n",
       "      <th>6</th>\n",
       "      <td>5;5</td>\n",
       "      <td>2.0</td>\n",
       "    </tr>\n",
       "    <tr>\n",
       "      <th>1</th>\n",
       "      <td>5;3</td>\n",
       "      <td>7.0</td>\n",
       "    </tr>\n",
       "  </tbody>\n",
       "</table>\n",
       "<p>3786 rows × 2 columns</p>\n",
       "</div>"
      ],
      "text/plain": [
       "       8  9;13\n",
       "5    2;6   9.0\n",
       "10  1;15   3.0\n",
       "13  7;24   7.0\n",
       "13  2;23   7.0\n",
       "4    2;3  45.0\n",
       "..   ...   ...\n",
       "3    5;3   2.0\n",
       "3   5;12   5.0\n",
       "4    5;2   8.0\n",
       "6    5;5   2.0\n",
       "1    5;3   7.0\n",
       "\n",
       "[3786 rows x 2 columns]"
      ]
     },
     "execution_count": 38,
     "metadata": {},
     "output_type": "execute_result"
    }
   ],
   "source": [
    "datos = pd.read_csv(\"DATA_ESTRUCTURA_DBSCAN.csv\", delimiter=\",\")\n",
    "datos.dropna( inplace = True )\n",
    "datos"
   ]
  },
  {
   "cell_type": "code",
   "execution_count": null,
   "metadata": {},
   "outputs": [],
   "source": [
    "# datos = np.loadtxt(\"casas.csv\", delimiter=\",\")\n",
    "datos = pd.read_csv(\"DATA_ESTRUCTURA.csv\", delimiter=\",\")\n",
    "datos.dropna( inplace = True )\n",
    "datos"
   ]
  },
  {
   "cell_type": "code",
   "execution_count": null,
   "metadata": {},
   "outputs": [],
   "source": [
    "datos['FECHA']=pd.to_datetime(datos['FECHA'], format='%d/%m/%y')\n",
    "datos['ALTURA'] = datos['ALTURA'].replace('[^\\d]','.',regex=True).astype(float)\n",
    "datos['DAP'] = datos['DAP'].replace('[^\\d]','.',regex=True).astype(float)\n",
    "datos['TIPO'] = datos['TIPO'].astype(int)       \n",
    "datos['ESTADO'] = datos['ESTADO'].astype(int)       \n",
    "datos.info()\n",
    "datos"
   ]
  },
  {
   "cell_type": "code",
   "execution_count": 30,
   "metadata": {},
   "outputs": [
    {
     "name": "stdout",
     "output_type": "stream",
     "text": [
      "       ALTURA   DAP\n",
      "0         8.9  13.0\n",
      "1         5.2   6.9\n",
      "2        10.1  15.3\n",
      "3        13.7  24.7\n",
      "4        13.2  23.7\n",
      "...       ...   ...\n",
      "10249     3.0   4.3\n",
      "10250    10.0  11.5\n",
      "10251     3.0   7.0\n",
      "10252    14.0  14.4\n",
      "10253     2.0   2.7\n",
      "\n",
      "[10236 rows x 2 columns]\n"
     ]
    },
    {
     "data": {
      "text/plain": [
       "0         8.9\n",
       "1         5.2\n",
       "2        10.1\n",
       "3        13.7\n",
       "4        13.2\n",
       "         ... \n",
       "10249     3.0\n",
       "10250    10.0\n",
       "10251     3.0\n",
       "10252    14.0\n",
       "10253     2.0\n",
       "Name: ALTURA, Length: 10236, dtype: float64"
      ]
     },
     "execution_count": 30,
     "metadata": {},
     "output_type": "execute_result"
    }
   ],
   "source": [
    "data_estructura = datos[['ALTURA','DAP']]\n",
    "print(data_estructura)\n",
    "data_estructura['ALTURA']"
   ]
  },
  {
   "cell_type": "markdown",
   "metadata": {},
   "source": [
    "### Identificar Clusters\n"
   ]
  },
  {
   "cell_type": "code",
   "execution_count": 25,
   "metadata": {},
   "outputs": [
    {
     "name": "stdout",
     "output_type": "stream",
     "text": [
      "[0 0 0 ... 0 0 0]\n"
     ]
    }
   ],
   "source": [
    "clusters = DBSCAN(eps=3, min_samples=5).fit_predict(data_estructura)\n",
    "print(clusters)"
   ]
  },
  {
   "cell_type": "markdown",
   "metadata": {},
   "source": [
    "### Gráfica de matplotlib para mostrar los Clusters"
   ]
  },
  {
   "cell_type": "code",
   "execution_count": 32,
   "metadata": {},
   "outputs": [
    {
     "data": {
      "image/png": "[encoded data removed]",
      "text/plain": [
       "<Figure size 540x540 with 1 Axes>"
      ]
     },
     "metadata": {
      "needs_background": "light"
     },
     "output_type": "display_data"
    }
   ],
   "source": [
    "plt.figure(figsize=(7.5, 7.5))\n",
    "\n",
    "plt.scatter(data_estructura['ALTURA'], data_estructura['DAP'], c=clusters, s=100)\n",
    "plt.xlabel(\"Altura del arbol\")\n",
    "plt.ylabel(\"Diametro a la altura del pecho del arbol\")\n",
    "plt.box(False)\n",
    "plt.show()"
   ]
  }
 ],
 "metadata": {
  "interpreter": {
   "hash": "d31d1720fee5c214aa19dd9aa6001c715315dbb8689ae52eae12e454dcd1f86a"
  },
  "kernelspec": {
   "display_name": "Python 3.9.7 64-bit",
   "language": "python",
   "name": "python3"
  },
  "language_info": {
   "codemirror_mode": {
    "name": "ipython",
    "version": 3
   },
   "file_extension": ".py",
   "mimetype": "text/x-python",
   "name": "python",
   "nbconvert_exporter": "python",
   "pygments_lexer": "ipython3",
   "version": "3.9.7"
  },
  "orig_nbformat": 4
 },
 "nbformat": 4,
 "nbformat_minor": 2
}
