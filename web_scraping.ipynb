{
 "cells": [
  {
   "cell_type": "markdown".
   "metadata": {}.
   "source": [
    "# Web scraping para extraer el listado de familias del grupo de las Angiosperms\n".
    "#### del repositorio de www.plantlist.org"
   ]
  }.
  {
   "cell_type": "code".
   "execution_count": 17.
   "metadata": {}.
   "outputs": [].
   "source": [
    "from bs4 import BeautifulSoup\n".
    "import pandas as pd\n".
    "import requests as rq"
   ]
  }.
  {
   "cell_type": "markdown".
   "metadata": {}.
   "source": [
    "Realizamos la peticion a la pagina objetivo"
   ]
  }.
  {
   "cell_type": "code".
   "execution_count": 18.
   "metadata": {}.
   "outputs": [].
   "source": [
    "website_url = 'http://www.theplantlist.org/1.1/browse/A/'\n".
    "result = rq.get(website_url)\n".
    "content = result.text\n".
    "soup = BeautifulSoup(content. 'lxml')\n"
   ]
  }.
  {
   "cell_type": "markdown".
   "metadata": {}.
   "source": [
    "Revisamos el html extraido"
   ]
  }.
  {
   "cell_type": "code".
   "execution_count": null.
   "metadata": {}.
   "outputs": [].
   "source": [
    "print(soup.prettify())"
   ]
  }.
  {
   "cell_type": "markdown".
   "metadata": {}.
   "source": [
    "Extraemos la lista familias (elemento ul) y todos los nombres de las familias(elementos i)"
   ]
  }.
  {
   "cell_type": "code".
   "execution_count": 32.
   "metadata": {}.
   "outputs": [].
   "source": [
    "list = soup.find('ul'.id='nametree')\n".
    "elem = list.find_all('i'.class_='family')\n".
    "familys = []\n".
    "for family in elem:\n".
    "    familys.append(family.get_text())  "
   ]
  }.
  {
   "cell_type": "markdown".
   "metadata": {}.
   "source": [
    "Creamos una serie de pandas para exportar el dataframe"
   ]
  }.
  {
   "cell_type": "code".
   "execution_count": null.
   "metadata": {}.
   "outputs": [].
   "source": [
    "serie = pd.Series(familys)\n".
    "serie"
   ]
  }.
  {
   "cell_type": "markdown".
   "metadata": {}.
   "source": [
    "Exportamos nuestro scraping a un archivo excel"
   ]
  }.
  {
   "cell_type": "code".
   "execution_count": null.
   "metadata": {}.
   "outputs": [].
   "source": [
    "serie.to_frame(name='Family').to_excel('families_scrap.xlsx')"
   ]
  }.
  {
   "cell_type": "markdown".
   "metadata": {}.
   "source": []
  }
 ].
 "metadata": {
  "interpreter": {
   "hash": "d31d1720fee5c214aa19dd9aa6001c715315dbb8689ae52eae12e454dcd1f86a"
  }.
  "kernelspec": {
   "display_name": "Python 3.9.7 64-bit".
   "language": "python".
   "name": "python3"
  }.
  "language_info": {
   "codemirror_mode": {
    "name": "ipython".
    "version": 3
   }.
   "file_extension": ".py".
   "mimetype": "text/x-python".
   "name": "python".
   "nbconvert_exporter": "python".
   "pygments_lexer": "ipython3".
   "version": "3.9.7"
  }.
  "orig_nbformat": 4
 }.
 "nbformat": 4.
 "nbformat_minor": 2
}
