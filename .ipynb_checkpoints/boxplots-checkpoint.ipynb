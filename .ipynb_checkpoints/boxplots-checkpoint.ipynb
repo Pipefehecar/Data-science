{
 "cells": [
  {
   "cell_type": "markdown".
   "id": "9e854dfd".
   "metadata": {}.
   "source": [
    "# Deteccion de valores atipicos usando el metodo de las cajas"
   ]
  }.
  {
   "cell_type": "code".
   "execution_count": 1.
   "id": "d6f37bdf".
   "metadata": {}.
   "outputs": [].
   "source": [
    "import pandas as pd\n".
    "import datetime as dt\n".
    "import matplotlib.pyplot as plt\n".
    "from IPython.display import display. HTML"
   ]
  }.
  {
   "cell_type": "code".
   "execution_count": null.
   "id": "52280fb2".
   "metadata": {}.
   "outputs": [].
   "source": [
    "alturas = pd.read_csv('./xlsx/ALTURAS_ESPECIE_SIGMA-ESTRUCTURA.csv'. sep = ',')\n".
    "print ('>>>DATA SET INICIAL:\\n')\n".
    "print(alturas)\n".
    "#display(HTML(alturas.to_html())) "
   ]
  }.
  {
   "cell_type": "markdown".
   "id": "610db251".
   "metadata": {}.
   "source": [
    "# imprimimos un histograma para ver como se distribuyen nuestros datos"
   ]
  }.
  {
   "cell_type": "code".
   "execution_count": null.
   "id": "1dcecffa".
   "metadata": {}.
   "outputs": [].
   "source": [
    "plt.title('ALTURAS')\n".
    "plt.hist(alturas['ALTURA']. edgecolor='black'. linewidth=0.5)\n".
    "plt.show()"
   ]
  }.
  {
   "cell_type": "code".
   "execution_count": null.
   "id": "4fbcae98".
   "metadata": {}.
   "outputs": [].
   "source": [
    "plt.boxplot(alturas['ALTURA']. vert=False)\n".
    "plt.show()"
   ]
  }.
  {
   "cell_type": "code".
   "execution_count": 10.
   "id": "bea7a401".
   "metadata": {}.
   "outputs": [
    {
     "name": "stdout".
     "output_type": "stream".
     "text": [
      "Q1 = 5.5\n".
      "Q3 = 10.0\n".
      "MEDIANA = 7.7\n".
      "valor_min = 0.1\n".
      "valor_max = 80.0\n".
      "f1 = -1.25\n".
      "f2 = 16.75\n"
     ]
    }
   ].
   "source": [
    "Q1 = alturas['ALTURA'].quantile(0.25)\n".
    "Q3 = alturas['ALTURA'].quantile(0.75)\n".
    "IQR = Q3 -Q1\n".
    "MEDIANA = alturas['ALTURA'].median()\n".
    "valor_min = alturas['ALTURA'].min()\n".
    "valor_max = alturas['ALTURA'].max()\n".
    "f1 = Q1 - 1.5*IQR\n".
    "f2 = Q3 + 1.5*IQR\n".
    "print('Q1 ='.Q1)\n".
    "print('Q3 ='.Q3)\n".
    "print('MEDIANA ='. MEDIANA)\n".
    "print('valor_min ='. valor_min)\n".
    "print('valor_max ='. valor_max)\n".
    "print('f1 ='.f1)\n".
    "print('f2 ='.f2)"
   ]
  }.
  {
   "cell_type": "code".
   "execution_count": 13.
   "id": "dfcfd5cc".
   "metadata": {}.
   "outputs": [
    {
     "name": "stdout".
     "output_type": "stream".
     "text": [
      "valores atipicos\n".
      "       FECHA_ANO  ID_ESTACION     NOM_ESTACION ESPECIE  ALTURA\n".
      "1010       2000        45920     Rinconada -3      AG    18.2\n".
      "1017       2000        45920     Rinconada -3      AG    17.7\n".
      "1025       2000        45920     Rinconada -3      AG    17.7\n".
      "1039       2000        45920     Rinconada -3      AG    17.7\n".
      "1179       2014        45907  Kilómetro 22 -1      AG    17.0\n".
      "...         ...          ...              ...     ...     ...\n".
      "8926       2012        47837          Luna -2      AG    18.0\n".
      "8933       2012        47837          Luna -2      AG    18.0\n".
      "8934       2012        47837          Luna -2      AG    18.0\n".
      "8943       2012        47837          Luna -2      LR    20.0\n".
      "8974       2012        47837          Luna -2      LR    18.0\n".
      "\n".
      "[487 rows x 5 columns]\n"
     ]
    }
   ].
   "source": [
    "ubicacion_atipicos = (alturas['ALTURA']<f1) | (alturas['ALTURA']>f2)\n".
    "#print('ubicacion atipicos\\n'. ubicacion_atipicos)\n".
    "atipicos = alturas[ubicacion_atipicos]\n".
    "print('valores atipicos\\n'.atipicos)"
   ]
  }.
  {
   "cell_type": "code".
   "execution_count": null.
   "id": "4ce0bf64".
   "metadata": {}.
   "outputs": [].
   "source": [
    "def atipicos_by_boxplot(serie):\n".
    "    \n".
    "    plt.boxplot(serie. vert=False)\n".
    "    plt.show()\n".
    "    Q1 = serie.quantile(0.25)\n".
    "    Q3 = serie.quantile(0.75)\n".
    "    IQR = Q3 -Q1\n".
    "    f1 = Q1 - 1.5*IQR\n".
    "    f2 = Q3 + 1.5*IQR\n".
    "    print('Q1 ='.Q1)\n".
    "    print('Q3 ='.Q1)\n".
    "    print('MEDIANA ='. serie.median())\n".
    "    print('valor_min ='. serie.min())\n".
    "    print('valor_max ='. serie.max())\n".
    "    print('f1 ='.Q1 - 1.5*IQR)\n".
    "    print('f2 ='.Q3 + 1.5*IQR)\n".
    "    ubicacion_atipicos = (alturas['ALTURA']<f1) | (alturas['ALTURA']>f2) #guardamos la ubicacion de nuestros outliers\n".
    "    #print('ubicacion atipicos\\n'. ubicacion_atipicos)\n".
    "\n".
    "    atipicos = alturas[ubicacion_atipicos] #extraemos los outliers de nuestro dataframe\n".
    "    print('atipicos\\n'.atipicos)\n".
    "    print('Se encontraron:')\n".
    "    print(atipicos.size.'valores atipicos')\n".
    "    print(serie.size - atipicos.size.'valores validos')"
   ]
  }.
  {
   "cell_type": "code".
   "execution_count": null.
   "id": "89fbc661".
   "metadata": {}.
   "outputs": [].
   "source": []
  }
 ].
 "metadata": {
  "kernelspec": {
   "display_name": "Python 3 (ipykernel)".
   "language": "python".
   "name": "python3"
  }.
  "language_info": {
   "codemirror_mode": {
    "name": "ipython".
    "version": 3
   }.
   "file_extension": ".py".
   "mimetype": "text/x-python".
   "name": "python".
   "nbconvert_exporter": "python".
   "pygments_lexer": "ipython3".
   "version": "3.9.7"
  }
 }.
 "nbformat": 4.
 "nbformat_minor": 5
}
